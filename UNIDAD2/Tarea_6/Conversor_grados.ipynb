{
 "cells": [
  {
   "cell_type": "markdown",
   "metadata": {},
   "source": [
    "## Descripción de las bibliotecas importadas\n",
    "- **TensorFlow (`tf`)**: Biblioteca de aprendizaje automático de código abierto desarrollada por Google. Se usará para crear y entrenar modelos de redes neuronales.\n",
    "- **NumPy (`np`)**: Biblioteca para operaciones numéricas eficientes en Python. Es esencial para manejar arreglos y datos que alimentarán los modelos de TensorFlow."
   ]
  },
  {
   "cell_type": "code",
   "execution_count": 3,
   "metadata": {},
   "outputs": [],
   "source": [
    "import tensorflow as tf \n",
    "import numpy as np"
   ]
  },
  {
   "cell_type": "markdown",
   "metadata": {},
   "source": [
    "## Definición de los datos de entrenamiento\n",
    "Vamos a crear dos arreglos NumPy que representen temperaturas en Celsius y sus equivalentes en Fahrenheit. Estos datos se usarán para entrenar un modelo de aprendizaje automático que convierta temperaturas de Celsius a Fahrenheit."
   ]
  },
  {
   "cell_type": "code",
   "execution_count": 4,
   "metadata": {},
   "outputs": [],
   "source": [
    "celcius = np.array([-40,-10,0,8,15,22,38], dtype = float)\n",
    "fahrenheit =  np.array([-40,14,32,46,59,72,100], dtype=float)"
   ]
  },
  {
   "cell_type": "markdown",
   "metadata": {},
   "source": [
    "## Creación del modelo de red neuronal\n",
    "Vamos a construir un modelo simple de regresión lineal usando TensorFlow/Keras. Este modelo tendrá una sola capa densa que aprenderá a convertir temperaturas de Celsius a Fahrenheit basándose en los datos proporcionados."
   ]
  },
  {
   "cell_type": "code",
   "execution_count": 5,
   "metadata": {},
   "outputs": [
    {
     "name": "stderr",
     "output_type": "stream",
     "text": [
      "c:\\Users\\payin\\AppData\\Local\\Programs\\Python\\Python312\\Lib\\site-packages\\keras\\src\\layers\\core\\dense.py:87: UserWarning: Do not pass an `input_shape`/`input_dim` argument to a layer. When using Sequential models, prefer using an `Input(shape)` object as the first layer in the model instead.\n",
      "  super().__init__(activity_regularizer=activity_regularizer, **kwargs)\n"
     ]
    }
   ],
   "source": [
    "capa = tf.keras.layers.Dense(units=1, input_shape=[1])\n",
    "modelo = tf.keras.Sequential([capa])"
   ]
  },
  {
   "cell_type": "markdown",
   "metadata": {},
   "source": [
    "## Compilación del modelo\n",
    "En esta sección, configuramos el modelo para el entrenamiento definiendo el optimizador y la función de pérdida. Esto prepara el modelo para aprender la relación entre Celsius y Fahrenheit."
   ]
  },
  {
   "cell_type": "code",
   "execution_count": 6,
   "metadata": {},
   "outputs": [],
   "source": [
    "modelo.compile(\n",
    "    optimizer = tf.keras.optimizers.Adam(0.1),\n",
    "    loss = 'mean_squared_error'\n",
    ")"
   ]
  },
  {
   "cell_type": "markdown",
   "metadata": {},
   "source": [
    "## Entrenamiento del modelo\n",
    "Ahora entrenaremos el modelo con los datos de temperaturas en Celsius y Fahrenheit. Este proceso ajustará los pesos de la capa densa para que el modelo aprenda a predecir Fahrenheit a partir de Celsius."
   ]
  },
  {
   "cell_type": "code",
   "execution_count": 7,
   "metadata": {},
   "outputs": [
    {
     "name": "stdout",
     "output_type": "stream",
     "text": [
      "Comenzando entrenamiento......\n",
      "Modelo entrenando!\n"
     ]
    }
   ],
   "source": [
    "print (\"Comenzando entrenamiento......\")\n",
    "historial = modelo.fit(celcius, fahrenheit , epochs=1000, verbose=False)\n",
    "print(\"Modelo entrenando!\")"
   ]
  },
  {
   "cell_type": "markdown",
   "metadata": {},
   "source": [
    "## Etiquetas de los ejes\n",
    "plt.xlabel(\"Época\")  # Número de épocas del entrenamiento <br>\n",
    "plt.ylabel(\"Magnitud de pérdida\")  # Valor de la función de pérdida <br>\n",
    "En esta gráfica, se observa cómo la pérdida disminuye con el tiempo, indicando que el modelo está aprendiendo. Un descenso gradual de la pérdida sugiere que el modelo está mejorando su precisión en la predicción de temperaturas."
   ]
  },
  {
   "cell_type": "code",
   "execution_count": 9,
   "metadata": {},
   "outputs": [
    {
     "data": {
      "text/plain": [
       "[<matplotlib.lines.Line2D at 0x27e6bdf9d00>]"
      ]
     },
     "execution_count": 9,
     "metadata": {},
     "output_type": "execute_result"
    },
    {
     "data": {
      "image/png": "[encoded data removed]",
      "text/plain": [
       "<Figure size 640x480 with 1 Axes>"
      ]
     },
     "metadata": {},
     "output_type": "display_data"
    }
   ],
   "source": [
    "import matplotlib.pyplot as plt\n",
    "plt.xlabel (\" #Epoca \")\n",
    "plt.ylabel(\"Magnitud de pérdida\")\n",
    "plt.plot(historial.history[\"loss\"])"
   ]
  },
  {
   "cell_type": "markdown",
   "metadata": {},
   "source": [
    "## Realizando una Predicción\n",
    "\n",
    "Una vez entrenado el modelo, podemos hacer una predicción. En este caso, convertiremos **180 grados Celsius** a Fahrenheit usando nuestra red neuronal."
   ]
  },
  {
   "cell_type": "code",
   "execution_count": 10,
   "metadata": {},
   "outputs": [
    {
     "name": "stdout",
     "output_type": "stream",
     "text": [
      "Hagamos una predicción!\n",
      "\u001b[1m1/1\u001b[0m \u001b[32m━━━━━━━━━━━━━━━━━━━━\u001b[0m\u001b[37m\u001b[0m \u001b[1m0s\u001b[0m 33ms/step\n",
      "El resultado es [[355.5985]] fahrenheit!\n"
     ]
    }
   ],
   "source": [
    "print(\"Hagamos una predicción!\")\n",
    "resultado = modelo.predict(np.array([[180.0]]))\n",
    "print(\"El resultado es \" + str(resultado) + \" fahrenheit!\")"
   ]
  },
  {
   "cell_type": "markdown",
   "metadata": {},
   "source": [
    "## Visualizando las Variables Internas del Modelo\n",
    "\n",
    "Podemos inspeccionar los **pesos internos** de la capa de nuestra red neuronal. Esto nos permite entender cómo el modelo ha aprendido la relación entre los grados Celsius y Fahrenheit. <br>\n",
    "Peso (Weight): Representa la pendiente de la relación aprendida. <br>\n",
    "Sesgo (Bias): Representa el ajuste adicional aplicado a la salida del modelo.\n"
   ]
  },
  {
   "cell_type": "code",
   "execution_count": 11,
   "metadata": {},
   "outputs": [
    {
     "name": "stdout",
     "output_type": "stream",
     "text": [
      "variables internas del modelo\n",
      "[array([[1.7981906]], dtype=float32), array([31.92421], dtype=float32)]\n"
     ]
    }
   ],
   "source": [
    "print(\"variables internas del modelo\")\n",
    "print(capa.get_weights())  "
   ]
  }
 ],
 "metadata": {
  "kernelspec": {
   "display_name": "Python 3",
   "language": "python",
   "name": "python3"
  },
  "language_info": {
   "codemirror_mode": {
    "name": "ipython",
    "version": 3
   },
   "file_extension": ".py",
   "mimetype": "text/x-python",
   "name": "python",
   "nbconvert_exporter": "python",
   "pygments_lexer": "ipython3",
   "version": "3.12.1"
  }
 },
 "nbformat": 4,
 "nbformat_minor": 2
}
